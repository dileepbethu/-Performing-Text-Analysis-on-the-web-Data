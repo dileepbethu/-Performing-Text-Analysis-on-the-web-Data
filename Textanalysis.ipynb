{
 "cells": [
  {
   "cell_type": "code",
   "execution_count": 1,
   "id": "d3ef984c",
   "metadata": {},
   "outputs": [],
   "source": [
    "import pandas as pd\n",
    "import requests as req\n",
    "import re\n",
    "from bs4 import BeautifulSoup\n",
    "import nltk\n",
    "from nltk.corpus import stopwords\n",
    "# stopwords.words('english')"
   ]
  },
  {
   "cell_type": "code",
   "execution_count": 2,
   "id": "89c0c2d9",
   "metadata": {},
   "outputs": [],
   "source": [
    "input_csv = pd.read_excel(\"C:\\\\Users\\\\Dileep chandu\\\\Downloads\\\\Input.xlsx\")"
   ]
  },
  {
   "cell_type": "code",
   "execution_count": 3,
   "id": "59dc78d0",
   "metadata": {},
   "outputs": [
    {
     "data": {
      "text/html": [
       "<div>\n",
       "<style scoped>\n",
       "    .dataframe tbody tr th:only-of-type {\n",
       "        vertical-align: middle;\n",
       "    }\n",
       "\n",
       "    .dataframe tbody tr th {\n",
       "        vertical-align: top;\n",
       "    }\n",
       "\n",
       "    .dataframe thead th {\n",
       "        text-align: right;\n",
       "    }\n",
       "</style>\n",
       "<table border=\"1\" class=\"dataframe\">\n",
       "  <thead>\n",
       "    <tr style=\"text-align: right;\">\n",
       "      <th></th>\n",
       "      <th>URL_ID</th>\n",
       "      <th>URL</th>\n",
       "    </tr>\n",
       "  </thead>\n",
       "  <tbody>\n",
       "    <tr>\n",
       "      <th>0</th>\n",
       "      <td>37</td>\n",
       "      <td>https://insights.blackcoffer.com/ai-in-healthc...</td>\n",
       "    </tr>\n",
       "    <tr>\n",
       "      <th>1</th>\n",
       "      <td>38</td>\n",
       "      <td>https://insights.blackcoffer.com/what-if-the-c...</td>\n",
       "    </tr>\n",
       "    <tr>\n",
       "      <th>2</th>\n",
       "      <td>39</td>\n",
       "      <td>https://insights.blackcoffer.com/what-jobs-wil...</td>\n",
       "    </tr>\n",
       "    <tr>\n",
       "      <th>3</th>\n",
       "      <td>40</td>\n",
       "      <td>https://insights.blackcoffer.com/will-machine-...</td>\n",
       "    </tr>\n",
       "    <tr>\n",
       "      <th>4</th>\n",
       "      <td>41</td>\n",
       "      <td>https://insights.blackcoffer.com/will-ai-repla...</td>\n",
       "    </tr>\n",
       "    <tr>\n",
       "      <th>...</th>\n",
       "      <td>...</td>\n",
       "      <td>...</td>\n",
       "    </tr>\n",
       "    <tr>\n",
       "      <th>109</th>\n",
       "      <td>146</td>\n",
       "      <td>https://insights.blackcoffer.com/blockchain-fo...</td>\n",
       "    </tr>\n",
       "    <tr>\n",
       "      <th>110</th>\n",
       "      <td>147</td>\n",
       "      <td>https://insights.blackcoffer.com/the-future-of...</td>\n",
       "    </tr>\n",
       "    <tr>\n",
       "      <th>111</th>\n",
       "      <td>148</td>\n",
       "      <td>https://insights.blackcoffer.com/big-data-anal...</td>\n",
       "    </tr>\n",
       "    <tr>\n",
       "      <th>112</th>\n",
       "      <td>149</td>\n",
       "      <td>https://insights.blackcoffer.com/business-anal...</td>\n",
       "    </tr>\n",
       "    <tr>\n",
       "      <th>113</th>\n",
       "      <td>150</td>\n",
       "      <td>https://insights.blackcoffer.com/challenges-an...</td>\n",
       "    </tr>\n",
       "  </tbody>\n",
       "</table>\n",
       "<p>114 rows × 2 columns</p>\n",
       "</div>"
      ],
      "text/plain": [
       "     URL_ID                                                URL\n",
       "0        37  https://insights.blackcoffer.com/ai-in-healthc...\n",
       "1        38  https://insights.blackcoffer.com/what-if-the-c...\n",
       "2        39  https://insights.blackcoffer.com/what-jobs-wil...\n",
       "3        40  https://insights.blackcoffer.com/will-machine-...\n",
       "4        41  https://insights.blackcoffer.com/will-ai-repla...\n",
       "..      ...                                                ...\n",
       "109     146  https://insights.blackcoffer.com/blockchain-fo...\n",
       "110     147  https://insights.blackcoffer.com/the-future-of...\n",
       "111     148  https://insights.blackcoffer.com/big-data-anal...\n",
       "112     149  https://insights.blackcoffer.com/business-anal...\n",
       "113     150  https://insights.blackcoffer.com/challenges-an...\n",
       "\n",
       "[114 rows x 2 columns]"
      ]
     },
     "execution_count": 3,
     "metadata": {},
     "output_type": "execute_result"
    }
   ],
   "source": [
    "input_csv"
   ]
  },
  {
   "cell_type": "code",
   "execution_count": 4,
   "id": "2f4508fb",
   "metadata": {},
   "outputs": [],
   "source": [
    "urls = input_csv['URL']"
   ]
  },
  {
   "cell_type": "code",
   "execution_count": 5,
   "id": "579ae03b",
   "metadata": {},
   "outputs": [
    {
     "data": {
      "text/plain": [
       "0      https://insights.blackcoffer.com/ai-in-healthc...\n",
       "1      https://insights.blackcoffer.com/what-if-the-c...\n",
       "2      https://insights.blackcoffer.com/what-jobs-wil...\n",
       "3      https://insights.blackcoffer.com/will-machine-...\n",
       "4      https://insights.blackcoffer.com/will-ai-repla...\n",
       "                             ...                        \n",
       "109    https://insights.blackcoffer.com/blockchain-fo...\n",
       "110    https://insights.blackcoffer.com/the-future-of...\n",
       "111    https://insights.blackcoffer.com/big-data-anal...\n",
       "112    https://insights.blackcoffer.com/business-anal...\n",
       "113    https://insights.blackcoffer.com/challenges-an...\n",
       "Name: URL, Length: 114, dtype: object"
      ]
     },
     "execution_count": 5,
     "metadata": {},
     "output_type": "execute_result"
    }
   ],
   "source": [
    "urls"
   ]
  },
  {
   "cell_type": "code",
   "execution_count": 6,
   "id": "d18d1775",
   "metadata": {},
   "outputs": [
    {
     "name": "stdout",
     "output_type": "stream",
     "text": [
      "https://insights.blackcoffer.com/ai-in-healthcare-to-improve-patient-outcomes/\n",
      "https://insights.blackcoffer.com/what-if-the-creation-is-taking-over-the-creator/\n",
      "https://insights.blackcoffer.com/what-jobs-will-robots-take-from-humans-in-the-future/\n",
      "https://insights.blackcoffer.com/will-machine-replace-the-human-in-the-future-of-work/\n",
      "https://insights.blackcoffer.com/will-ai-replace-us-or-work-with-us/\n",
      "https://insights.blackcoffer.com/man-and-machines-together-machines-are-more-diligent-than-humans-blackcoffe/\n",
      "https://insights.blackcoffer.com/in-future-or-in-upcoming-years-humans-and-machines-are-going-to-work-together-in-every-field-of-work/\n",
      "https://insights.blackcoffer.com/how-neural-networks-can-be-applied-in-various-areas-in-the-future/\n",
      "https://insights.blackcoffer.com/how-machine-learning-will-affect-your-business/\n",
      "https://insights.blackcoffer.com/deep-learning-impact-on-areas-of-e-learning/\n",
      "https://insights.blackcoffer.com/how-to-protect-future-data-and-its-privacy-blackcoffer/\n",
      "https://insights.blackcoffer.com/how-machines-ai-automations-and-robo-human-are-effective-in-finance-and-banking/\n",
      "https://insights.blackcoffer.com/ai-human-robotics-machine-future-planet-blackcoffer-thinking-jobs-workplace/\n",
      "https://insights.blackcoffer.com/how-ai-will-change-the-world-blackcoffer/\n",
      "https://insights.blackcoffer.com/future-of-work-how-ai-has-entered-the-workplace/\n",
      "https://insights.blackcoffer.com/ai-tool-alexa-google-assistant-finance-banking-tool-future/\n",
      "https://insights.blackcoffer.com/ai-healthcare-revolution-ml-technology-algorithm-google-analytics-industrialrevolution/\n",
      "https://insights.blackcoffer.com/all-you-need-to-know-about-online-marketing/\n",
      "https://insights.blackcoffer.com/evolution-of-advertising-industry/\n",
      "https://insights.blackcoffer.com/how-data-analytics-can-help-your-business-respond-to-the-impact-of-covid-19/\n",
      "https://insights.blackcoffer.com/covid-19-environmental-impact-for-the-future/\n",
      "https://insights.blackcoffer.com/environmental-impact-of-the-covid-19-pandemic-lesson-for-the-future/\n",
      "https://insights.blackcoffer.com/how-data-analytics-and-ai-are-used-to-halt-the-covid-19-pandemic/\n",
      "https://insights.blackcoffer.com/difference-between-artificial-intelligence-machine-learning-statistics-and-data-mining/\n",
      "https://insights.blackcoffer.com/how-python-became-the-first-choice-for-data-science/\n",
      "https://insights.blackcoffer.com/how-google-fit-measure-heart-and-respiratory-rates-using-a-phone/\n",
      "https://insights.blackcoffer.com/what-is-the-future-of-mobile-apps/\n",
      "https://insights.blackcoffer.com/impact-of-ai-in-health-and-medicine/\n",
      "https://insights.blackcoffer.com/telemedicine-what-patients-like-and-dislike-about-it/\n",
      "https://insights.blackcoffer.com/how-we-forecast-future-technologies/\n",
      "https://insights.blackcoffer.com/can-robots-tackle-late-life-loneliness/\n",
      "https://insights.blackcoffer.com/embedding-care-robots-into-society-socio-technical-considerations/\n",
      "https://insights.blackcoffer.com/management-challenges-for-future-digitalization-of-healthcare-services/\n",
      "https://insights.blackcoffer.com/are-we-any-closer-to-preventing-a-nuclear-holocaust/\n",
      "https://insights.blackcoffer.com/will-technology-eliminate-the-need-for-animal-testing-in-drug-development/\n",
      "https://insights.blackcoffer.com/will-we-ever-understand-the-nature-of-consciousness/\n",
      "https://insights.blackcoffer.com/will-we-ever-colonize-outer-space/\n",
      "https://insights.blackcoffer.com/what-is-the-chance-homo-sapiens-will-survive-for-the-next-500-years/\n",
      "https://insights.blackcoffer.com/why-does-your-business-need-a-chatbot/\n",
      "https://insights.blackcoffer.com/how-you-lead-a-project-or-a-team-without-any-technical-expertise/\n",
      "https://insights.blackcoffer.com/can-you-be-great-leader-without-technical-expertise/\n",
      "https://insights.blackcoffer.com/how-does-artificial-intelligence-affect-the-environment/\n",
      "https://insights.blackcoffer.com/how-to-overcome-your-fear-of-making-mistakes-2/\n",
      "https://insights.blackcoffer.com/is-perfection-the-greatest-enemy-of-productivity/\n",
      "https://insights.blackcoffer.com/global-financial-crisis-2008-causes-effects-and-its-solution/\n",
      "https://insights.blackcoffer.com/gender-diversity-and-equality-in-the-tech-industry/\n",
      "https://insights.blackcoffer.com/how-to-overcome-your-fear-of-making-mistakes/\n",
      "https://insights.blackcoffer.com/how-small-business-can-survive-the-coronavirus-crisis/\n",
      "https://insights.blackcoffer.com/impacts-of-covid-19-on-vegetable-vendors-and-food-stalls/\n",
      "https://insights.blackcoffer.com/impacts-of-covid-19-on-vegetable-vendors/\n",
      "https://insights.blackcoffer.com/impact-of-covid-19-pandemic-on-tourism-aviation-industries/\n",
      "https://insights.blackcoffer.com/impact-of-covid-19-pandemic-on-sports-events-around-the-world/\n",
      "https://insights.blackcoffer.com/changing-landscape-and-emerging-trends-in-the-indian-it-ites-industry/\n",
      "https://insights.blackcoffer.com/online-gaming-adolescent-online-gaming-effects-demotivated-depression-musculoskeletal-and-psychosomatic-symptoms/\n",
      "https://insights.blackcoffer.com/human-rights-outlook/\n",
      "https://insights.blackcoffer.com/how-voice-search-makes-your-business-a-successful-business/\n",
      "https://insights.blackcoffer.com/how-the-covid-19-crisis-is-redefining-jobs-and-services/\n",
      "https://insights.blackcoffer.com/how-to-increase-social-media-engagement-for-marketers/\n",
      "https://insights.blackcoffer.com/impacts-of-covid-19-on-streets-sides-food-stalls/\n",
      "https://insights.blackcoffer.com/coronavirus-impact-on-energy-markets-2/\n",
      "https://insights.blackcoffer.com/coronavirus-impact-on-the-hospitality-industry-5/\n",
      "https://insights.blackcoffer.com/lessons-from-the-past-some-key-learnings-relevant-to-the-coronavirus-crisis-4/\n",
      "https://insights.blackcoffer.com/estimating-the-impact-of-covid-19-on-the-world-of-work-2/\n",
      "https://insights.blackcoffer.com/estimating-the-impact-of-covid-19-on-the-world-of-work-3/\n",
      "https://insights.blackcoffer.com/travel-and-tourism-outlook/\n",
      "https://insights.blackcoffer.com/gaming-disorder-and-effects-of-gaming-on-health/\n",
      "https://insights.blackcoffer.com/what-is-the-repercussion-of-the-environment-due-to-the-covid-19-pandemic-situation/\n",
      "https://insights.blackcoffer.com/what-is-the-repercussion-of-the-environment-due-to-the-covid-19-pandemic-situation-2/\n",
      "https://insights.blackcoffer.com/impact-of-covid-19-pandemic-on-office-space-and-co-working-industries/\n",
      "https://insights.blackcoffer.com/contribution-of-handicrafts-visual-arts-literature-in-the-indian-economy/\n",
      "https://insights.blackcoffer.com/how-covid-19-is-impacting-payment-preferences/\n",
      "https://insights.blackcoffer.com/how-will-covid-19-affect-the-world-of-work-2/\n",
      "https://insights.blackcoffer.com/lessons-from-the-past-some-key-learnings-relevant-to-the-coronavirus-crisis/\n",
      "https://insights.blackcoffer.com/covid-19-how-have-countries-been-responding/\n",
      "https://insights.blackcoffer.com/coronavirus-impact-on-the-hospitality-industry-2/\n",
      "https://insights.blackcoffer.com/how-will-covid-19-affect-the-world-of-work-3/\n",
      "https://insights.blackcoffer.com/coronavirus-impact-on-the-hospitality-industry-3/\n",
      "https://insights.blackcoffer.com/estimating-the-impact-of-covid-19-on-the-world-of-work/\n",
      "https://insights.blackcoffer.com/covid-19-how-have-countries-been-responding-2/\n",
      "https://insights.blackcoffer.com/how-will-covid-19-affect-the-world-of-work-4/\n",
      "https://insights.blackcoffer.com/lessons-from-the-past-some-key-learnings-relevant-to-the-coronavirus-crisis-2/\n",
      "https://insights.blackcoffer.com/lessons-from-the-past-some-key-learnings-relevant-to-the-coronavirus-crisis-3/\n",
      "https://insights.blackcoffer.com/coronavirus-impact-on-the-hospitality-industry-4/\n",
      "https://insights.blackcoffer.com/why-scams-like-nirav-modi-happen-with-indian-banks/\n",
      "https://insights.blackcoffer.com/impact-of-covid-19-on-the-global-economy/\n",
      "https://insights.blackcoffer.com/impact-of-covid-19coronavirus-on-the-indian-economy-2/\n",
      "https://insights.blackcoffer.com/impact-of-covid-19-on-the-global-economy-2/\n",
      "https://insights.blackcoffer.com/impact-of-covid-19-coronavirus-on-the-indian-economy-3/\n",
      "https://insights.blackcoffer.com/should-celebrities-be-allowed-to-join-politics/\n",
      "https://insights.blackcoffer.com/how-prepared-is-india-to-tackle-a-possible-covid-19-outbreak/\n",
      "https://insights.blackcoffer.com/how-will-covid-19-affect-the-world-of-work/\n",
      "https://insights.blackcoffer.com/controversy-as-a-marketing-strategy/\n",
      "https://insights.blackcoffer.com/coronavirus-impact-on-the-hospitality-industry/\n",
      "https://insights.blackcoffer.com/coronavirus-impact-on-energy-markets/\n",
      "https://insights.blackcoffer.com/what-are-the-key-policies-that-will-mitigate-the-impacts-of-covid-19-on-the-world-of-work/\n",
      "https://insights.blackcoffer.com/marketing-drives-results-with-a-focus-on-problems/\n",
      "https://insights.blackcoffer.com/continued-demand-for-sustainability/\n",
      "https://insights.blackcoffer.com/coronavirus-disease-covid-19-effect-the-impact-and-role-of-mass-media-during-the-pandemic/\n",
      "https://insights.blackcoffer.com/should-people-wear-fabric-gloves-seeking-evidence-regarding-the-differential-transfer-of-covid-19-or-coronaviruses-generally-between-surfaces/\n",
      "https://insights.blackcoffer.com/why-is-there-a-severe-immunological-and-inflammatory-explosion-in-those-affected-by-sarms-covid-19/\n",
      "https://insights.blackcoffer.com/what-do-you-think-is-the-lesson-or-lessons-to-be-learned-with-covid-19/\n",
      "https://insights.blackcoffer.com/coronavirus-the-unexpected-challenge-for-the-european-union/\n",
      "https://insights.blackcoffer.com/industrial-revolution-4-0-pros-and-cons/\n",
      "https://insights.blackcoffer.com/impact-of-covid-19-coronavirus-on-the-indian-economy/\n",
      "https://insights.blackcoffer.com/impact-of-covid-19-coronavirus-on-the-indian-economy-2/\n",
      "https://insights.blackcoffer.com/impact-of-covid-19coronavirus-on-the-indian-economy/\n",
      "https://insights.blackcoffer.com/impact-of-covid-19-coronavirus-on-the-global-economy/\n",
      "https://insights.blackcoffer.com/ensuring-growth-through-insurance-technology/\n",
      "https://insights.blackcoffer.com/blockchain-in-fintech/\n",
      "https://insights.blackcoffer.com/blockchain-for-payments/\n",
      "https://insights.blackcoffer.com/the-future-of-investing/\n",
      "https://insights.blackcoffer.com/big-data-analytics-in-healthcare/\n",
      "https://insights.blackcoffer.com/business-analytics-in-the-healthcare-industry/\n",
      "https://insights.blackcoffer.com/challenges-and-opportunities-of-big-data-in-healthcare/\n"
     ]
    }
   ],
   "source": [
    "for i in urls:\n",
    "    print(i)"
   ]
  },
  {
   "cell_type": "code",
   "execution_count": 7,
   "id": "6289401f",
   "metadata": {},
   "outputs": [],
   "source": [
    "def text_reader(path):\n",
    "    my_file = open(path)\n",
    "\n",
    "    # reading the file\n",
    "    data = my_file.read()\n",
    "#     print(type(data))\n",
    "\n",
    "    # replacing end of line('/n') with ' ' and\n",
    "    # splitting the text it further when '.' is seen.\n",
    "    data_into_list = data.lower().strip().replace(' ', '').split(\"\\n\")\n",
    "    my_file.close()\n",
    "    return data_into_list"
   ]
  },
  {
   "cell_type": "code",
   "execution_count": 8,
   "id": "90d5193e",
   "metadata": {},
   "outputs": [],
   "source": [
    "stopWords_Names_lst = text_reader(r\"C:\\Users\\Dileep chandu\\Downloads\\Stop_words\\StopWords_Names.txt\")\n",
    "stopWords_geographic_lst=text_reader(r\"C:\\Users\\Dileep chandu\\Downloads\\Stop_words\\StopWords_Geographic.txt\")\n",
    "stopWords_genericlong_lst=text_reader(r\"C:\\Users\\Dileep chandu\\Downloads\\Stop_words\\StopWords_GenericLong.txt\")\n",
    "stopWords_generic_lst=text_reader(r\"C:\\Users\\Dileep chandu\\Downloads\\Stop_words\\StopWords_Generic.txt\")\n",
    "stopWords_datasandnumbers_lst=text_reader(r\"C:\\Users\\Dileep chandu\\Downloads\\Stop_words\\StopWords_DatesandNumbers.txt\")\n",
    "stopWords_currencies_lst=text_reader(r\"C:\\Users\\Dileep chandu\\Downloads\\Stop_words\\StopWords_Currencies.txt\")\n",
    "stopWords_auditor_lst=text_reader(r\"C:\\Users\\Dileep chandu\\Downloads\\Stop_words\\StopWords_Auditor.txt\")\n",
    "positive_words_lst=text_reader(r\"C:\\Users\\Dileep chandu\\Downloads\\masters dic\\positive-words.txt\")\n",
    "negative_words_lst=text_reader(r\"C:\\Users\\Dileep chandu\\Downloads\\masters dic\\negative-words.txt\")"
   ]
  },
  {
   "cell_type": "code",
   "execution_count": 9,
   "id": "858fdf6d",
   "metadata": {},
   "outputs": [],
   "source": [
    "\n",
    "\n",
    "url = \"https://insights.blackcoffer.com/business-analytics-in-the-healthcare-industry/\"\n",
    "response = req.get(url)\n",
    "try:\n",
    "    r=req.get(url,timeout=3).content\n",
    "except requests.Timeout as err:\n",
    "    print(err.message)"
   ]
  },
  {
   "cell_type": "code",
   "execution_count": 10,
   "id": "fefab429",
   "metadata": {},
   "outputs": [],
   "source": [
    "soup = BeautifulSoup(response.content, 'html.parser')"
   ]
  },
  {
   "cell_type": "code",
   "execution_count": 11,
   "id": "48bf773e",
   "metadata": {},
   "outputs": [],
   "source": [
    "header=soup.find_all('div',class_=\"td-post-content tagdiv-type\")\n"
   ]
  },
  {
   "cell_type": "code",
   "execution_count": 12,
   "id": "8689c61d",
   "metadata": {},
   "outputs": [],
   "source": [
    "\n",
    "#print(header)"
   ]
  },
  {
   "cell_type": "code",
   "execution_count": 13,
   "id": "6dcaf95d",
   "metadata": {},
   "outputs": [],
   "source": [
    "sentences=nltk.sent_tokenize(header[0].text.strip())"
   ]
  },
  {
   "cell_type": "code",
   "execution_count": 14,
   "id": "f3e96d7b",
   "metadata": {},
   "outputs": [
    {
     "data": {
      "text/plain": [
       "('Analytics is a statistical scientific process of discovering and presenting the meaningful patterns that can be found in data.',\n",
       " 29)"
      ]
     },
     "execution_count": 14,
     "metadata": {},
     "output_type": "execute_result"
    }
   ],
   "source": [
    "sentences[0],len(sentences)"
   ]
  },
  {
   "cell_type": "code",
   "execution_count": 15,
   "id": "dedf923b",
   "metadata": {},
   "outputs": [],
   "source": [
    "word=nltk.word_tokenize(header[0].text.strip())"
   ]
  },
  {
   "cell_type": "code",
   "execution_count": 16,
   "id": "0fd0ac3a",
   "metadata": {},
   "outputs": [
    {
     "data": {
      "text/plain": [
       "791"
      ]
     },
     "execution_count": 16,
     "metadata": {},
     "output_type": "execute_result"
    }
   ],
   "source": [
    "len(word)"
   ]
  },
  {
   "cell_type": "code",
   "execution_count": 17,
   "id": "57fa3fca",
   "metadata": {},
   "outputs": [],
   "source": [
    "word_corpus=[]\n",
    "for i in word:\n",
    "#     print(i)\n",
    "    rp=re.sub('[^a-zA-Z0-9]',\"\",i)\n",
    "#     print(rp,len(rp))\n",
    "    if len(rp)>=1:\n",
    "        word_corpus.append(str(rp.lower().strip()))"
   ]
  },
  {
   "cell_type": "code",
   "execution_count": 18,
   "id": "2bd01676",
   "metadata": {},
   "outputs": [],
   "source": [
    "complete_stop_words_list = [] \n",
    "complete_stop_words_list.extend(stopWords_Names_lst)\n",
    "complete_stop_words_list.extend(stopWords_geographic_lst)\n",
    "complete_stop_words_list.extend(stopWords_genericlong_lst)\n",
    "complete_stop_words_list.extend(stopWords_generic_lst)\n",
    "complete_stop_words_list.extend(stopWords_datasandnumbers_lst)\n",
    "complete_stop_words_list.extend(stopWords_currencies_lst)\n",
    "complete_stop_words_list.extend(stopWords_auditor_lst)"
   ]
  },
  {
   "cell_type": "code",
   "execution_count": 19,
   "id": "b747ea0e",
   "metadata": {},
   "outputs": [
    {
     "data": {
      "text/plain": [
       "['smith',\n",
       " 'johnson',\n",
       " 'williams',\n",
       " 'jones',\n",
       " 'brown',\n",
       " 'davis',\n",
       " 'miller',\n",
       " 'wilson',\n",
       " 'moore',\n",
       " 'taylor',\n",
       " 'anderson',\n",
       " 'thomas',\n",
       " 'jackson',\n",
       " 'white',\n",
       " 'harris',\n",
       " 'martin',\n",
       " 'thompson',\n",
       " 'garcia',\n",
       " 'martinez',\n",
       " 'robinson',\n",
       " 'clark',\n",
       " 'rodriguez',\n",
       " 'lewis',\n",
       " 'lee',\n",
       " 'walker',\n",
       " 'hall',\n",
       " 'allen',\n",
       " 'young',\n",
       " 'hernandez',\n",
       " 'king',\n",
       " 'wright',\n",
       " 'lopez',\n",
       " 'hill',\n",
       " 'scott',\n",
       " 'green',\n",
       " 'adams',\n",
       " 'baker',\n",
       " 'gonzalez',\n",
       " 'nelson',\n",
       " 'carter',\n",
       " 'mitchell',\n",
       " 'perez',\n",
       " 'roberts',\n",
       " 'turner',\n",
       " 'phillips',\n",
       " 'campbell',\n",
       " 'parker',\n",
       " 'evans',\n",
       " 'edwards',\n",
       " 'collins',\n",
       " 'stewart',\n",
       " 'sanchez',\n",
       " 'morris',\n",
       " 'rogers',\n",
       " 'reed',\n",
       " 'cook',\n",
       " 'morgan',\n",
       " 'bell',\n",
       " 'murphy',\n",
       " 'bailey',\n",
       " 'rivera',\n",
       " 'cooper',\n",
       " 'richardson',\n",
       " 'cox',\n",
       " 'howard',\n",
       " 'ward',\n",
       " 'torres',\n",
       " 'peterson',\n",
       " 'gray',\n",
       " 'ramirez',\n",
       " 'james',\n",
       " 'watson',\n",
       " 'brooks',\n",
       " 'kelly',\n",
       " 'sanders',\n",
       " 'price',\n",
       " 'bennett',\n",
       " 'wood',\n",
       " 'barnes',\n",
       " 'ross',\n",
       " 'henderson',\n",
       " 'coleman',\n",
       " 'jenkins',\n",
       " 'perry',\n",
       " 'powell',\n",
       " 'long',\n",
       " 'patterson',\n",
       " 'hughes',\n",
       " 'flores',\n",
       " 'washington',\n",
       " 'butler',\n",
       " 'simmons',\n",
       " 'foster',\n",
       " 'gonzales',\n",
       " 'bryant',\n",
       " 'alexander',\n",
       " 'russell',\n",
       " 'griffin',\n",
       " 'diaz',\n",
       " 'hayes',\n",
       " 'myers',\n",
       " 'ford',\n",
       " 'hamilton',\n",
       " 'graham',\n",
       " 'sullivan',\n",
       " 'wallace',\n",
       " 'woods',\n",
       " 'cole',\n",
       " 'west',\n",
       " 'jordan',\n",
       " 'owens',\n",
       " 'reynolds',\n",
       " 'fisher',\n",
       " 'ellis',\n",
       " 'harrison',\n",
       " 'gibson',\n",
       " 'mcdonald',\n",
       " 'cruz',\n",
       " 'marshall',\n",
       " 'ortiz',\n",
       " 'gomez',\n",
       " 'murray',\n",
       " 'freeman',\n",
       " 'wells',\n",
       " 'webb',\n",
       " 'simpson',\n",
       " 'stevens',\n",
       " 'tucker',\n",
       " 'porter',\n",
       " 'hunter',\n",
       " 'hicks',\n",
       " 'crawford',\n",
       " 'henry',\n",
       " 'boyd',\n",
       " 'mason',\n",
       " 'morales',\n",
       " 'kennedy',\n",
       " 'warren',\n",
       " 'dixon',\n",
       " 'ramos',\n",
       " 'reyes',\n",
       " 'burns',\n",
       " 'gordon',\n",
       " 'shaw',\n",
       " 'holmes',\n",
       " 'rice',\n",
       " 'robertson',\n",
       " 'hunt',\n",
       " 'black',\n",
       " 'daniels',\n",
       " 'palmer',\n",
       " 'mills',\n",
       " 'nichols',\n",
       " 'grant',\n",
       " 'knight',\n",
       " 'ferguson',\n",
       " 'rose',\n",
       " 'stone',\n",
       " 'hawkins',\n",
       " 'dunn',\n",
       " 'perkins',\n",
       " 'hudson',\n",
       " 'spencer',\n",
       " 'gardner',\n",
       " 'stephens',\n",
       " 'payne',\n",
       " 'pierce',\n",
       " 'berry',\n",
       " 'matthews',\n",
       " 'arnold',\n",
       " 'wagner',\n",
       " 'willis',\n",
       " 'ray',\n",
       " 'watkins',\n",
       " 'olson',\n",
       " 'carroll',\n",
       " 'duncan',\n",
       " 'snyder',\n",
       " 'hart',\n",
       " 'cunningham',\n",
       " 'bradley',\n",
       " 'lane',\n",
       " 'andrews',\n",
       " 'ruiz',\n",
       " 'harper',\n",
       " 'fox',\n",
       " 'riley',\n",
       " 'armstrong',\n",
       " 'carpenter',\n",
       " 'weaver',\n",
       " 'greene',\n",
       " 'lawrence',\n",
       " 'elliott',\n",
       " 'chavez',\n",
       " 'sims',\n",
       " 'austin',\n",
       " 'peters',\n",
       " 'kelley',\n",
       " 'franklin',\n",
       " 'lawson',\n",
       " 'fields',\n",
       " 'gutierrez',\n",
       " 'ryan',\n",
       " 'schmidt',\n",
       " 'carr',\n",
       " 'vasquez',\n",
       " 'castillo',\n",
       " 'wheeler',\n",
       " 'chapman',\n",
       " 'oliver',\n",
       " 'montgomery',\n",
       " 'richards',\n",
       " 'williamson',\n",
       " 'johnston',\n",
       " 'banks',\n",
       " 'meyer',\n",
       " 'bishop',\n",
       " 'mccoy',\n",
       " 'howell',\n",
       " 'alvarez',\n",
       " 'morrison',\n",
       " 'hansen',\n",
       " 'fernandez',\n",
       " 'garza',\n",
       " 'harvey',\n",
       " 'little',\n",
       " 'burton',\n",
       " 'stanley',\n",
       " 'nguyen',\n",
       " 'george',\n",
       " 'jacobs',\n",
       " 'reid',\n",
       " 'kim',\n",
       " 'fuller',\n",
       " 'lynch',\n",
       " 'dean',\n",
       " 'gilbert',\n",
       " 'garrett',\n",
       " 'romero',\n",
       " 'welch',\n",
       " 'larson',\n",
       " 'frazier',\n",
       " 'burke',\n",
       " 'hanson',\n",
       " 'day',\n",
       " 'mendoza',\n",
       " 'moreno',\n",
       " 'bowman',\n",
       " 'medina',\n",
       " 'fowler',\n",
       " 'brewer',\n",
       " 'hoffman',\n",
       " 'carlson',\n",
       " 'silva',\n",
       " 'pearson',\n",
       " 'holland',\n",
       " 'douglas',\n",
       " 'fleming',\n",
       " 'jensen',\n",
       " 'vargas',\n",
       " 'byrd',\n",
       " 'davidson',\n",
       " 'hopkins',\n",
       " 'may',\n",
       " 'terry',\n",
       " 'herrera',\n",
       " 'wade',\n",
       " 'soto',\n",
       " 'walters',\n",
       " 'curtis',\n",
       " 'neal',\n",
       " 'caldwell',\n",
       " 'lowe',\n",
       " 'jennings',\n",
       " 'barnett',\n",
       " 'graves',\n",
       " 'jimenez',\n",
       " 'horton',\n",
       " 'shelton',\n",
       " 'barrett',\n",
       " 'obrien',\n",
       " 'castro',\n",
       " 'sutton',\n",
       " 'gregory',\n",
       " 'mckinney',\n",
       " 'lucas',\n",
       " 'miles',\n",
       " 'craig',\n",
       " 'rodriquez',\n",
       " 'chambers',\n",
       " 'holt',\n",
       " 'lambert',\n",
       " 'fletcher',\n",
       " 'watts',\n",
       " 'bates',\n",
       " 'hale',\n",
       " 'rhodes',\n",
       " 'pena',\n",
       " 'beck',\n",
       " 'newman',\n",
       " 'haynes',\n",
       " 'mcdaniel',\n",
       " 'mendez',\n",
       " 'bush',\n",
       " 'vaughn',\n",
       " 'parks',\n",
       " 'dawson',\n",
       " 'santiago',\n",
       " 'norris',\n",
       " 'hardy',\n",
       " 'love',\n",
       " 'steele',\n",
       " 'curry',\n",
       " 'powers',\n",
       " 'schultz',\n",
       " 'barker',\n",
       " 'guzman',\n",
       " 'page',\n",
       " 'munoz',\n",
       " 'ball',\n",
       " 'keller',\n",
       " 'chandler',\n",
       " 'weber',\n",
       " 'leonard',\n",
       " 'walsh',\n",
       " 'lyons',\n",
       " 'ramsey',\n",
       " 'wolfe',\n",
       " 'schneider',\n",
       " 'mullins',\n",
       " 'benson',\n",
       " 'sharp',\n",
       " 'bowen',\n",
       " 'daniel',\n",
       " 'barber',\n",
       " 'cummings',\n",
       " 'hines',\n",
       " 'baldwin',\n",
       " 'griffith',\n",
       " 'valdez',\n",
       " 'hubbard',\n",
       " 'salazar',\n",
       " 'reeves',\n",
       " 'warner',\n",
       " 'stevenson',\n",
       " 'burgess',\n",
       " 'santos',\n",
       " 'tate',\n",
       " 'cross',\n",
       " 'garner',\n",
       " 'mann',\n",
       " 'mack',\n",
       " 'moss',\n",
       " 'thornton',\n",
       " 'dennis',\n",
       " 'mcgee',\n",
       " 'farmer',\n",
       " 'delgado',\n",
       " 'aguilar',\n",
       " 'vega',\n",
       " 'glover',\n",
       " 'manning',\n",
       " 'cohen',\n",
       " 'harmon',\n",
       " 'rodgers',\n",
       " 'robbins',\n",
       " 'newton',\n",
       " 'todd',\n",
       " 'blair',\n",
       " 'higgins',\n",
       " 'ingram',\n",
       " 'reese',\n",
       " 'cannon',\n",
       " 'strickland',\n",
       " 'townsend',\n",
       " 'potter',\n",
       " 'goodwin',\n",
       " 'walton',\n",
       " 'rowe',\n",
       " 'hampton',\n",
       " 'ortega',\n",
       " 'patton',\n",
       " 'swanson',\n",
       " 'joseph',\n",
       " 'francis',\n",
       " 'goodman',\n",
       " 'maldonado',\n",
       " 'yates',\n",
       " 'becker',\n",
       " 'erickson',\n",
       " 'hodges',\n",
       " 'rios',\n",
       " 'conner',\n",
       " 'adkins',\n",
       " 'webster',\n",
       " 'norman',\n",
       " 'malone',\n",
       " 'hammond',\n",
       " 'flowers',\n",
       " 'cobb',\n",
       " 'moody',\n",
       " 'quinn',\n",
       " 'blake',\n",
       " 'maxwell',\n",
       " 'pope',\n",
       " 'floyd',\n",
       " 'osborne',\n",
       " 'paul',\n",
       " 'mccarthy',\n",
       " 'guerrero',\n",
       " 'lindsey',\n",
       " 'estrada',\n",
       " 'sandoval',\n",
       " 'gibbs',\n",
       " 'tyler',\n",
       " 'gross',\n",
       " 'fitzgerald',\n",
       " 'stokes',\n",
       " 'doyle',\n",
       " 'sherman',\n",
       " 'saunders',\n",
       " 'wise',\n",
       " 'colon',\n",
       " 'gill',\n",
       " 'alvarado',\n",
       " 'greer',\n",
       " 'padilla',\n",
       " 'simon',\n",
       " 'waters',\n",
       " 'nunez',\n",
       " 'ballard',\n",
       " 'schwartz',\n",
       " 'mcbride',\n",
       " 'houston',\n",
       " 'christensen',\n",
       " 'klein',\n",
       " 'pratt',\n",
       " 'briggs',\n",
       " 'parsons',\n",
       " 'mclaughlin',\n",
       " 'zimmerman',\n",
       " 'french',\n",
       " 'buchanan',\n",
       " 'moran',\n",
       " 'copeland',\n",
       " 'roy',\n",
       " 'pittman',\n",
       " 'brady',\n",
       " 'mccormick',\n",
       " 'holloway',\n",
       " 'brock',\n",
       " 'poole',\n",
       " 'frank',\n",
       " 'logan',\n",
       " 'owen',\n",
       " 'bass',\n",
       " 'marsh',\n",
       " 'drake',\n",
       " 'wong',\n",
       " 'jefferson',\n",
       " 'park',\n",
       " 'morton',\n",
       " 'abbott',\n",
       " 'sparks',\n",
       " 'patrick',\n",
       " 'norton',\n",
       " 'huff',\n",
       " 'clayton',\n",
       " 'massey',\n",
       " 'lloyd',\n",
       " 'figueroa',\n",
       " 'carson',\n",
       " 'bowers',\n",
       " 'roberson',\n",
       " 'barton',\n",
       " 'tran',\n",
       " 'lamb',\n",
       " 'harrington',\n",
       " 'casey',\n",
       " 'boone',\n",
       " 'cortez',\n",
       " 'clarke',\n",
       " 'mathis',\n",
       " 'singleton',\n",
       " 'wilkins',\n",
       " 'cain',\n",
       " 'bryan',\n",
       " 'underwood',\n",
       " 'hogan',\n",
       " 'mckenzie',\n",
       " 'collier',\n",
       " 'luna',\n",
       " 'phelps',\n",
       " 'mcguire',\n",
       " 'allison',\n",
       " 'bridges',\n",
       " 'wilkerson',\n",
       " 'nash',\n",
       " 'summers',\n",
       " 'atkins',\n",
       " 'wilcox',\n",
       " 'pitts',\n",
       " 'conley',\n",
       " 'marquez',\n",
       " 'burnett',\n",
       " 'richard',\n",
       " 'cochran',\n",
       " 'chase',\n",
       " 'davenport',\n",
       " 'hood',\n",
       " 'gates',\n",
       " 'clay',\n",
       " 'ayala',\n",
       " 'sawyer',\n",
       " 'roman',\n",
       " 'vazquez',\n",
       " 'dickerson',\n",
       " 'hodge',\n",
       " 'acosta',\n",
       " 'flynn',\n",
       " 'espinoza',\n",
       " 'nicholson',\n",
       " 'monroe',\n",
       " 'wolf',\n",
       " 'morrow',\n",
       " 'kirk',\n",
       " 'randall',\n",
       " 'anthony',\n",
       " 'whitaker',\n",
       " 'oconnor',\n",
       " 'skinner',\n",
       " 'ware',\n",
       " 'molina',\n",
       " 'kirby',\n",
       " 'huffman',\n",
       " 'bradford',\n",
       " 'charles',\n",
       " 'gilmore',\n",
       " 'dominguez',\n",
       " 'oneal',\n",
       " 'bruce',\n",
       " 'lang',\n",
       " 'combs',\n",
       " 'kramer',\n",
       " 'heath',\n",
       " 'hancock',\n",
       " 'gallagher',\n",
       " 'gaines',\n",
       " 'shaffer',\n",
       " 'short',\n",
       " 'wiggins',\n",
       " 'mathews',\n",
       " 'mcclain',\n",
       " 'fischer',\n",
       " 'wall',\n",
       " 'small',\n",
       " 'melton',\n",
       " 'hensley',\n",
       " 'bond',\n",
       " 'dyer',\n",
       " 'cameron',\n",
       " 'grimes',\n",
       " 'contreras',\n",
       " 'christian',\n",
       " 'wyatt',\n",
       " 'baxter',\n",
       " 'snow',\n",
       " 'mosley',\n",
       " 'shepherd',\n",
       " 'larsen',\n",
       " 'hoover',\n",
       " 'beasley',\n",
       " 'glenn',\n",
       " 'petersen',\n",
       " 'whitehead',\n",
       " 'meyers',\n",
       " 'keith',\n",
       " 'garrison',\n",
       " 'vincent',\n",
       " 'shields',\n",
       " 'horn',\n",
       " 'savage',\n",
       " 'olsen',\n",
       " 'schroeder',\n",
       " 'hartman',\n",
       " 'woodard',\n",
       " 'mueller',\n",
       " 'kemp',\n",
       " 'deleon',\n",
       " 'booth',\n",
       " 'patel',\n",
       " 'calhoun',\n",
       " 'wiley',\n",
       " 'eaton',\n",
       " 'cline',\n",
       " 'navarro',\n",
       " 'harrell',\n",
       " 'lester',\n",
       " 'humphrey',\n",
       " 'parrish',\n",
       " 'duran',\n",
       " 'hutchinson',\n",
       " 'hess',\n",
       " 'dorsey',\n",
       " 'bullock',\n",
       " 'robles',\n",
       " 'beard',\n",
       " 'dalton',\n",
       " 'avila',\n",
       " 'vance',\n",
       " 'rich',\n",
       " 'blackwell',\n",
       " 'york',\n",
       " 'johns',\n",
       " 'blankenship',\n",
       " 'trevino',\n",
       " 'salinas',\n",
       " 'campos',\n",
       " 'pruitt',\n",
       " 'moses',\n",
       " 'callahan',\n",
       " 'golden',\n",
       " 'montoya',\n",
       " 'hardin',\n",
       " 'guerra',\n",
       " 'mcdowell',\n",
       " 'carey',\n",
       " 'stafford',\n",
       " 'gallegos',\n",
       " 'henson',\n",
       " 'wilkinson',\n",
       " 'booker',\n",
       " 'merritt',\n",
       " 'miranda',\n",
       " 'atkinson',\n",
       " 'orr',\n",
       " 'decker',\n",
       " 'hobbs',\n",
       " 'preston',\n",
       " 'tanner',\n",
       " 'knox',\n",
       " 'pacheco',\n",
       " 'stephenson',\n",
       " 'glass',\n",
       " 'rojas',\n",
       " 'serrano',\n",
       " 'marks',\n",
       " 'hickman',\n",
       " 'english',\n",
       " 'sweeney',\n",
       " 'strong',\n",
       " 'prince',\n",
       " 'mcclure',\n",
       " 'conway',\n",
       " 'walter',\n",
       " 'roth',\n",
       " 'maynard',\n",
       " 'farrell',\n",
       " 'lowery',\n",
       " 'hurst',\n",
       " 'nixon',\n",
       " 'weiss',\n",
       " 'trujillo',\n",
       " 'ellison',\n",
       " 'sloan',\n",
       " 'juarez',\n",
       " 'winters',\n",
       " 'mclean',\n",
       " 'randolph',\n",
       " 'leon',\n",
       " 'boyer',\n",
       " 'villarreal',\n",
       " 'mccall',\n",
       " 'gentry',\n",
       " 'carrillo',\n",
       " 'kent',\n",
       " 'ayers',\n",
       " 'lara',\n",
       " 'shannon',\n",
       " 'sexton',\n",
       " 'pace',\n",
       " 'hull',\n",
       " 'leblanc',\n",
       " 'browning',\n",
       " 'velasquez',\n",
       " 'leach',\n",
       " 'chang',\n",
       " 'house',\n",
       " 'sellers',\n",
       " 'herring',\n",
       " 'noble',\n",
       " 'foley',\n",
       " 'bartlett',\n",
       " 'mercado',\n",
       " 'landry',\n",
       " 'durham',\n",
       " 'walls',\n",
       " 'barr',\n",
       " 'mckee',\n",
       " 'bauer',\n",
       " 'rivers',\n",
       " 'everett',\n",
       " 'bradshaw',\n",
       " 'pugh',\n",
       " 'velez',\n",
       " 'rush',\n",
       " 'estes',\n",
       " 'dodson',\n",
       " 'morse',\n",
       " 'sheppard',\n",
       " 'weeks',\n",
       " 'camacho',\n",
       " 'bean',\n",
       " 'barron',\n",
       " 'livingston',\n",
       " 'middleton',\n",
       " 'spears',\n",
       " 'branch',\n",
       " 'blevins',\n",
       " 'chen',\n",
       " 'kerr',\n",
       " 'mcconnell',\n",
       " 'hatfield',\n",
       " 'harding',\n",
       " 'ashley',\n",
       " 'solis',\n",
       " 'herman',\n",
       " 'frost',\n",
       " 'giles',\n",
       " 'blackburn',\n",
       " 'william',\n",
       " 'pennington',\n",
       " 'woodward',\n",
       " 'finley',\n",
       " 'mcintosh',\n",
       " 'koch',\n",
       " 'best',\n",
       " 'solomon',\n",
       " 'mccullough',\n",
       " 'dudley',\n",
       " 'nolan',\n",
       " 'blanchard',\n",
       " 'rivas',\n",
       " 'brennan',\n",
       " 'mejia',\n",
       " 'kane',\n",
       " 'benton',\n",
       " 'joyce',\n",
       " 'buckley',\n",
       " 'haley',\n",
       " 'valentine',\n",
       " 'maddox',\n",
       " 'russo',\n",
       " 'mcknight',\n",
       " 'buck',\n",
       " 'moon',\n",
       " 'mcmillan',\n",
       " 'crosby',\n",
       " 'berg',\n",
       " 'dotson',\n",
       " 'mays',\n",
       " 'roach',\n",
       " 'church',\n",
       " 'chan',\n",
       " 'richmond',\n",
       " 'meadows',\n",
       " 'faulkner',\n",
       " 'oneill',\n",
       " 'knapp',\n",
       " 'kline',\n",
       " 'barry',\n",
       " 'ochoa',\n",
       " 'jacobson',\n",
       " 'gay',\n",
       " 'avery',\n",
       " 'hendricks',\n",
       " 'horne',\n",
       " 'shepard',\n",
       " 'hebert',\n",
       " 'cherry',\n",
       " 'cardenas',\n",
       " 'mcintyre',\n",
       " 'whitney',\n",
       " 'waller',\n",
       " 'holman',\n",
       " 'donaldson',\n",
       " 'cantu',\n",
       " 'terrell',\n",
       " 'morin',\n",
       " 'gillespie',\n",
       " 'fuentes',\n",
       " 'tillman',\n",
       " 'sanford',\n",
       " 'bentley',\n",
       " 'peck',\n",
       " 'key',\n",
       " 'salas',\n",
       " 'rollins',\n",
       " 'gamble',\n",
       " 'dickson',\n",
       " 'battle',\n",
       " 'santana',\n",
       " 'cabrera',\n",
       " 'cervantes',\n",
       " 'howe',\n",
       " 'hinton',\n",
       " 'hurley',\n",
       " 'spence',\n",
       " 'zamora',\n",
       " 'yang',\n",
       " 'mcneil',\n",
       " 'suarez',\n",
       " 'case',\n",
       " 'petty',\n",
       " 'gould',\n",
       " 'mcfarland',\n",
       " 'sampson',\n",
       " 'carver',\n",
       " 'bray',\n",
       " 'rosario',\n",
       " 'macdonald',\n",
       " 'stout',\n",
       " 'hester',\n",
       " 'melendez',\n",
       " 'dillon',\n",
       " 'farley',\n",
       " 'hopper',\n",
       " 'galloway',\n",
       " 'potts',\n",
       " 'bernard',\n",
       " 'joyner',\n",
       " 'stein',\n",
       " 'aguirre',\n",
       " 'osborn',\n",
       " 'mercer',\n",
       " 'bender',\n",
       " 'franco',\n",
       " 'rowland',\n",
       " 'sykes',\n",
       " 'benjamin',\n",
       " 'travis',\n",
       " 'pickett',\n",
       " 'crane',\n",
       " 'sears',\n",
       " 'mayo',\n",
       " 'dunlap',\n",
       " 'hayden',\n",
       " 'wilder',\n",
       " 'mckay',\n",
       " 'coffey',\n",
       " 'mccarty',\n",
       " 'ewing',\n",
       " 'cooley',\n",
       " 'vaughan',\n",
       " 'bonner',\n",
       " 'cotton',\n",
       " 'holder',\n",
       " 'stark',\n",
       " 'ferrell',\n",
       " 'cantrell',\n",
       " 'fulton',\n",
       " 'lynn',\n",
       " 'lott',\n",
       " 'calderon',\n",
       " 'rosa',\n",
       " 'pollard',\n",
       " 'hooper',\n",
       " 'burch',\n",
       " 'mullen',\n",
       " 'fry',\n",
       " 'riddle',\n",
       " 'levy',\n",
       " 'david',\n",
       " 'duke',\n",
       " 'odonnell',\n",
       " 'guy',\n",
       " 'michael',\n",
       " 'britt',\n",
       " 'frederick',\n",
       " 'daugherty',\n",
       " 'berger',\n",
       " 'dillard',\n",
       " 'alston',\n",
       " 'jarvis',\n",
       " 'frye',\n",
       " 'riggs',\n",
       " 'chaney',\n",
       " 'odom',\n",
       " 'duffy',\n",
       " 'fitzpatrick',\n",
       " 'valenzuela',\n",
       " 'merrill',\n",
       " 'mayer',\n",
       " 'alford',\n",
       " 'mcpherson',\n",
       " 'acevedo',\n",
       " 'donovan',\n",
       " 'barrera',\n",
       " 'albert',\n",
       " 'cote',\n",
       " 'reilly',\n",
       " 'compton',\n",
       " 'raymond',\n",
       " 'mooney',\n",
       " 'mcgowan',\n",
       " 'craft',\n",
       " 'cleveland',\n",
       " 'clemons',\n",
       " 'wynn',\n",
       " 'nielsen',\n",
       " 'baird',\n",
       " 'stanton',\n",
       " 'snider',\n",
       " 'rosales',\n",
       " 'bright',\n",
       " 'witt',\n",
       " 'stuart',\n",
       " 'hays',\n",
       " 'holden',\n",
       " 'rutledge',\n",
       " 'kinney',\n",
       " 'clements',\n",
       " 'castaneda',\n",
       " 'slater',\n",
       " 'hahn',\n",
       " 'emerson',\n",
       " 'conrad',\n",
       " 'burks',\n",
       " 'delaney',\n",
       " 'pate',\n",
       " 'lancaster',\n",
       " 'sweet',\n",
       " 'justice',\n",
       " 'tyson',\n",
       " 'sharpe',\n",
       " 'whitfield',\n",
       " 'talley',\n",
       " 'macias',\n",
       " 'irwin',\n",
       " 'burris',\n",
       " 'ratliff',\n",
       " 'mccray',\n",
       " 'madden',\n",
       " 'kaufman',\n",
       " 'beach',\n",
       " 'goff',\n",
       " 'cash',\n",
       " 'bolton',\n",
       " 'mcfadden',\n",
       " 'levine',\n",
       " 'good',\n",
       " 'byers',\n",
       " 'kirkland',\n",
       " 'kidd',\n",
       " 'workman',\n",
       " 'carney',\n",
       " 'dale',\n",
       " 'mcleod',\n",
       " 'holcomb',\n",
       " 'england',\n",
       " 'finch',\n",
       " 'head',\n",
       " 'burt',\n",
       " 'hendrix',\n",
       " 'sosa',\n",
       " 'haney',\n",
       " 'franks',\n",
       " 'sargent',\n",
       " 'nieves',\n",
       " 'downs',\n",
       " 'rasmussen',\n",
       " 'bird',\n",
       " 'hewitt',\n",
       " 'lindsay',\n",
       " 'le',\n",
       " 'foreman',\n",
       " 'valencia',\n",
       " 'oneil',\n",
       " 'delacruz',\n",
       " 'vinson',\n",
       " 'dejesus',\n",
       " 'hyde',\n",
       " 'forbes',\n",
       " 'gilliam',\n",
       " 'guthrie',\n",
       " 'wooten',\n",
       " 'huber',\n",
       " 'barlow',\n",
       " 'boyle',\n",
       " 'mcmahon',\n",
       " 'buckner',\n",
       " 'rocha',\n",
       " 'puckett',\n",
       " 'langley',\n",
       " 'knowles',\n",
       " 'cooke',\n",
       " 'velazquez',\n",
       " 'whitley',\n",
       " 'noel',\n",
       " 'vang',\n",
       " ...]"
      ]
     },
     "execution_count": 19,
     "metadata": {},
     "output_type": "execute_result"
    }
   ],
   "source": [
    "complete_stop_words_list"
   ]
  },
  {
   "cell_type": "code",
   "execution_count": null,
   "id": "1f49f069",
   "metadata": {},
   "outputs": [],
   "source": []
  },
  {
   "cell_type": "code",
   "execution_count": null,
   "id": "937ef322",
   "metadata": {},
   "outputs": [],
   "source": []
  },
  {
   "cell_type": "code",
   "execution_count": 20,
   "id": "22817645",
   "metadata": {},
   "outputs": [],
   "source": [
    "stopword_free_lst = []\n",
    "for i in word_corpus:\n",
    "    if i.lower() not in complete_stop_words_list:\n",
    "        stopword_free_lst.append(i)"
   ]
  },
  {
   "cell_type": "code",
   "execution_count": 21,
   "id": "f319a037",
   "metadata": {},
   "outputs": [
    {
     "data": {
      "text/plain": [
       "370"
      ]
     },
     "execution_count": 21,
     "metadata": {},
     "output_type": "execute_result"
    }
   ],
   "source": [
    "len(stopword_free_lst)"
   ]
  },
  {
   "cell_type": "code",
   "execution_count": 22,
   "id": "5869949b",
   "metadata": {},
   "outputs": [],
   "source": [
    "pncount_lst = []\n",
    "pncount_lst = []"
   ]
  },
  {
   "cell_type": "code",
   "execution_count": 23,
   "id": "a1fdd5cd",
   "metadata": {},
   "outputs": [],
   "source": [
    "def calculate_score(stop_wordfree_lst,positive_words_lst,negative_words_lst):\n",
    "    pcount,ncount =0,0\n",
    "    for i in stop_wordfree_lst:\n",
    "        if i in positive_words_lst:\n",
    "            pcount+=1\n",
    "        elif i in negative_words_lst:\n",
    "            ncount+=1\n",
    "    pncount_lst.append(pcount)\n",
    "    pncount_lst.append(ncount)\n",
    "    return pcount,ncount"
   ]
  },
  {
   "cell_type": "code",
   "execution_count": 24,
   "id": "6816544b",
   "metadata": {},
   "outputs": [
    {
     "data": {
      "text/plain": [
       "(35, 4)"
      ]
     },
     "execution_count": 24,
     "metadata": {},
     "output_type": "execute_result"
    }
   ],
   "source": [
    "calculate_score(stopword_free_lst,positive_words_lst, negative_words_lst)\n"
   ]
  },
  {
   "cell_type": "markdown",
   "id": "3cc4ff27",
   "metadata": {},
   "source": [
    "# Postive Score\n",
    "# Negative Score"
   ]
  },
  {
   "cell_type": "code",
   "execution_count": 25,
   "id": "c8c83f14",
   "metadata": {
    "scrolled": true
   },
   "outputs": [
    {
     "name": "stdout",
     "output_type": "stream",
     "text": [
      "1. Postive Score: 35 \n",
      "2. Negative Score: 4\n"
     ]
    }
   ],
   "source": [
    "print(\"1. Postive Score:\",pncount_lst[0], \"\\n2. Negative Score:\",pncount_lst[1])"
   ]
  },
  {
   "cell_type": "markdown",
   "id": "a46402d2",
   "metadata": {},
   "source": [
    "# Polarity score"
   ]
  },
  {
   "cell_type": "code",
   "execution_count": 26,
   "id": "74498e4b",
   "metadata": {},
   "outputs": [],
   "source": [
    "polarityscore=(pncount_lst[0]-pncount_lst[1])/((pncount_lst[0]+pncount_lst[1])+0.000001)"
   ]
  },
  {
   "cell_type": "code",
   "execution_count": 27,
   "id": "fa73579c",
   "metadata": {},
   "outputs": [
    {
     "name": "stdout",
     "output_type": "stream",
     "text": [
      "3. Polarity Score: 0.7948717744904674\n"
     ]
    }
   ],
   "source": [
    "print(\"3. Polarity Score:\", polarityscore)"
   ]
  },
  {
   "cell_type": "markdown",
   "id": "09f8ab85",
   "metadata": {},
   "source": [
    "# subjectivity score"
   ]
  },
  {
   "cell_type": "code",
   "execution_count": 28,
   "id": "98758c1a",
   "metadata": {},
   "outputs": [],
   "source": [
    "subjectivityscore=(pncount_lst[0]+pncount_lst[1])/((len(stopword_free_lst))+0.000001)"
   ]
  },
  {
   "cell_type": "code",
   "execution_count": 29,
   "id": "1a63498f",
   "metadata": {},
   "outputs": [
    {
     "name": "stdout",
     "output_type": "stream",
     "text": [
      "4. Subjectivity Score: 0.10540540512052593\n"
     ]
    }
   ],
   "source": [
    "print(\"4. Subjectivity Score:\", subjectivityscore)"
   ]
  },
  {
   "cell_type": "code",
   "execution_count": 30,
   "id": "63c844e1",
   "metadata": {},
   "outputs": [
    {
     "data": {
      "text/plain": [
       "(791, 717, 29)"
      ]
     },
     "execution_count": 30,
     "metadata": {},
     "output_type": "execute_result"
    }
   ],
   "source": [
    "len(word),len(word_corpus),len(sentences)"
   ]
  },
  {
   "cell_type": "code",
   "execution_count": null,
   "id": "6a0d622f",
   "metadata": {},
   "outputs": [],
   "source": []
  },
  {
   "cell_type": "code",
   "execution_count": 31,
   "id": "95060eb9",
   "metadata": {},
   "outputs": [],
   "source": [
    "#averagesentencelength"
   ]
  },
  {
   "cell_type": "code",
   "execution_count": 32,
   "id": "ef0457cc",
   "metadata": {},
   "outputs": [
    {
     "data": {
      "text/plain": [
       "370"
      ]
     },
     "execution_count": 32,
     "metadata": {},
     "output_type": "execute_result"
    }
   ],
   "source": [
    "len(stopword_free_lst)"
   ]
  },
  {
   "cell_type": "markdown",
   "id": "aff37fc2",
   "metadata": {},
   "source": [
    "# Syllable Count & Complex Word Count"
   ]
  },
  {
   "cell_type": "code",
   "execution_count": 33,
   "id": "d29aa3a6",
   "metadata": {},
   "outputs": [
    {
     "name": "stdout",
     "output_type": "stream",
     "text": [
      "complex Word Count: 301 syllable count: 370\n"
     ]
    }
   ],
   "source": [
    "def syllable_count(word):\n",
    "    word = word.lower()\n",
    "    count = 0\n",
    "    vowels = \"aeiouy\"\n",
    "    if word[0] in vowels:\n",
    "        count += 1\n",
    "    for index in range(1, len(word)):\n",
    "        if word[index] in vowels and word[index - 1] not in vowels:\n",
    "            count += 1\n",
    "    if word.endswith(\"e\") or word.endswith('ed') or word.endswith('es'): \n",
    "        count -= 1\n",
    "    if count == 0:\n",
    "        count += 1\n",
    "    return count\n",
    "# syllable_count_dict = {}\n",
    "syllable_count_lst = []\n",
    "complex_wordcount_lst = []\n",
    "for i in stopword_free_lst:\n",
    "    if syllable_count(i)>=2:\n",
    "        complex_wordcount_lst.append(syllable_count(i))\n",
    "        syllable_count_lst.append(syllable_count(i))\n",
    "    else:\n",
    "        syllable_count_lst.append(syllable_count(i))\n",
    "#     syllable_count_lst.append(syllable_count(i))\n",
    "#     if syllable_count(i) == 0:\n",
    "#         syllable_count_dict[i] = 0\n",
    "#     else:\n",
    "#         syllable_count_dict[i] = syllable_count(i)\n",
    "print(\"complex Word Count:\", len(complex_wordcount_lst), \"syllable count:\", len(syllable_count_lst))"
   ]
  },
  {
   "cell_type": "markdown",
   "id": "7dd31ff1",
   "metadata": {},
   "source": [
    "# Average Sentance Length"
   ]
  },
  {
   "cell_type": "code",
   "execution_count": 34,
   "id": "62d99da5",
   "metadata": {},
   "outputs": [
    {
     "name": "stdout",
     "output_type": "stream",
     "text": [
      "5. Average Sentance Length:  12.758620689655173\n"
     ]
    }
   ],
   "source": [
    "averagesentencelength=len(stopword_free_lst)/len(sentences)\n",
    "print(\"5. Average Sentance Length: \", averagesentencelength)"
   ]
  },
  {
   "cell_type": "markdown",
   "id": "e2e75ae9",
   "metadata": {},
   "source": [
    "# Percentage of Complex Words"
   ]
  },
  {
   "cell_type": "code",
   "execution_count": 35,
   "id": "9b495cbb",
   "metadata": {},
   "outputs": [
    {
     "name": "stdout",
     "output_type": "stream",
     "text": [
      "6. Percentage of Complex Words: 0.8135135135135135\n"
     ]
    }
   ],
   "source": [
    "percentage_of_complex_words = len(complex_wordcount_lst)/len(stopword_free_lst)\n",
    "print(\"6. Percentage of Complex Words:\",percentage_of_complex_words )"
   ]
  },
  {
   "cell_type": "markdown",
   "id": "f5e4b36f",
   "metadata": {},
   "source": [
    "# Fog Index"
   ]
  },
  {
   "cell_type": "code",
   "execution_count": 36,
   "id": "9aeb22c5",
   "metadata": {},
   "outputs": [
    {
     "name": "stdout",
     "output_type": "stream",
     "text": [
      "7. Fog Index : 5.428853681267475\n"
     ]
    }
   ],
   "source": [
    "fogIndex=0.4*(averagesentencelength+percentage_of_complex_words)\n",
    "print(\"7. Fog Index :\", fogIndex)"
   ]
  },
  {
   "cell_type": "markdown",
   "id": "34a7d76b",
   "metadata": {},
   "source": [
    "# Average Number of Words per sentence"
   ]
  },
  {
   "cell_type": "code",
   "execution_count": 37,
   "id": "645df258",
   "metadata": {},
   "outputs": [
    {
     "name": "stdout",
     "output_type": "stream",
     "text": [
      "8. Average Number of Words per sentence:  24.724137931034484\n"
     ]
    }
   ],
   "source": [
    "Avg_Num_of_words_per_sentence = len(word_corpus)/len(sentences)\n",
    "print(\"8. Average Number of Words per sentence: \",Avg_Num_of_words_per_sentence)"
   ]
  },
  {
   "cell_type": "markdown",
   "id": "d6b86cc0",
   "metadata": {},
   "source": [
    "# Complex Word Count"
   ]
  },
  {
   "cell_type": "code",
   "execution_count": 38,
   "id": "c52bb2cf",
   "metadata": {},
   "outputs": [
    {
     "name": "stdout",
     "output_type": "stream",
     "text": [
      "9. Complex Word Count: 301\n"
     ]
    }
   ],
   "source": [
    "print(\"9. Complex Word Count:\", len(complex_wordcount_lst))"
   ]
  },
  {
   "cell_type": "markdown",
   "id": "e9f4a7ea",
   "metadata": {},
   "source": [
    "# Word Count"
   ]
  },
  {
   "cell_type": "code",
   "execution_count": 39,
   "id": "3f65e184",
   "metadata": {},
   "outputs": [
    {
     "name": "stdout",
     "output_type": "stream",
     "text": [
      "10. Word Count: 29\n"
     ]
    }
   ],
   "source": [
    "word_count=[]\n",
    "for i in range(len(sentences)):\n",
    "    dp=re.sub('[^a-zA-Z0-9]',\" \",sentences[i])\n",
    "    dp=dp.lower()\n",
    "    dp=dp.split()\n",
    "    dp=[words for words in dp if not words in set(stopwords.words('english'))]\n",
    "    dp=\" \".join(dp)\n",
    "    word_count.append(dp)\n",
    "print(\"10. Word Count:\",len(word_count))"
   ]
  },
  {
   "cell_type": "markdown",
   "id": "9ac043c4",
   "metadata": {},
   "source": [
    "# Syllable Count Per Word"
   ]
  },
  {
   "cell_type": "code",
   "execution_count": 40,
   "id": "a587b7a0",
   "metadata": {},
   "outputs": [
    {
     "name": "stdout",
     "output_type": "stream",
     "text": [
      "11. Syllable Count Per Word ; 370\n"
     ]
    }
   ],
   "source": [
    "print(\"11. Syllable Count Per Word ;\", len(syllable_count_lst))"
   ]
  },
  {
   "cell_type": "markdown",
   "id": "30595024",
   "metadata": {},
   "source": [
    "# Pronouns"
   ]
  },
  {
   "cell_type": "code",
   "execution_count": 41,
   "id": "e3ed3e33",
   "metadata": {},
   "outputs": [
    {
     "name": "stdout",
     "output_type": "stream",
     "text": [
      "12. pronouns: {'I': 0, 'we': 0, 'my': 0, 'ours': 0, 'us': 0}\n"
     ]
    }
   ],
   "source": [
    "pattern = r\"\\b(I|we|my|ours|us)\\b(?<!US)\"\n",
    "counts={\n",
    "    \"I\":0,\n",
    "    \"we\":0,\n",
    "    \"my\":0,\n",
    "    \"ours\":0,\n",
    "    \"us\":0\n",
    "}\n",
    "for text in word_corpus: \n",
    "    matches = re.findall(pattern, text)\n",
    "    for match in matches:\n",
    "        counts[match] += 1\n",
    "print(\"12. pronouns:\",counts)"
   ]
  },
  {
   "cell_type": "code",
   "execution_count": 42,
   "id": "e79741da",
   "metadata": {},
   "outputs": [
    {
     "data": {
      "text/plain": [
       "(301, 370)"
      ]
     },
     "execution_count": 42,
     "metadata": {},
     "output_type": "execute_result"
    }
   ],
   "source": [
    "len(complex_wordcount_lst), len(syllable_count_lst)"
   ]
  },
  {
   "cell_type": "markdown",
   "id": "4c525bc6",
   "metadata": {},
   "source": [
    "# Average wordLength"
   ]
  },
  {
   "cell_type": "code",
   "execution_count": 43,
   "id": "1178e14d",
   "metadata": {},
   "outputs": [
    {
     "name": "stdout",
     "output_type": "stream",
     "text": [
      " 13. Average Word length: 8.018918918918919\n"
     ]
    }
   ],
   "source": [
    "total = 0\n",
    "for i in stopword_free_lst:\n",
    "    total+= len(i)\n",
    "Averageword_length = total/len(stopword_free_lst)\n",
    "print(\" 13. Average Word length:\", Averageword_length)   "
   ]
  },
  {
   "cell_type": "code",
   "execution_count": 44,
   "id": "7e817bd9",
   "metadata": {},
   "outputs": [],
   "source": [
    "#syllable_count_dict[-1] = 0"
   ]
  },
  {
   "cell_type": "code",
   "execution_count": 45,
   "id": "12d760e6",
   "metadata": {},
   "outputs": [],
   "source": [
    "#len(syllable_count_dict.values())"
   ]
  },
  {
   "cell_type": "code",
   "execution_count": 46,
   "id": "9752f010",
   "metadata": {},
   "outputs": [
    {
     "data": {
      "text/plain": [
       "256"
      ]
     },
     "execution_count": 46,
     "metadata": {},
     "output_type": "execute_result"
    }
   ],
   "source": [
    "len(set(stopword_free_lst))"
   ]
  },
  {
   "cell_type": "markdown",
   "id": "bd418042",
   "metadata": {},
   "source": [
    "# Average Number of Words per sentence"
   ]
  },
  {
   "cell_type": "code",
   "execution_count": 47,
   "id": "4ea850d7",
   "metadata": {},
   "outputs": [],
   "source": [
    "AvgNumofwordpersentence = len(stopword_free_lst)/len(sentences)"
   ]
  },
  {
   "cell_type": "code",
   "execution_count": 48,
   "id": "2c5a1dc9",
   "metadata": {},
   "outputs": [
    {
     "data": {
      "text/plain": [
       "12.758620689655173"
      ]
     },
     "execution_count": 48,
     "metadata": {},
     "output_type": "execute_result"
    }
   ],
   "source": [
    "AvgNumofwordpersentence"
   ]
  },
  {
   "cell_type": "code",
   "execution_count": null,
   "id": "45a5e0a1",
   "metadata": {},
   "outputs": [],
   "source": []
  },
  {
   "cell_type": "code",
   "execution_count": null,
   "id": "39e0eb2f",
   "metadata": {},
   "outputs": [],
   "source": []
  }
 ],
 "metadata": {
  "kernelspec": {
   "display_name": "Python 3 (ipykernel)",
   "language": "python",
   "name": "python3"
  },
  "language_info": {
   "codemirror_mode": {
    "name": "ipython",
    "version": 3
   },
   "file_extension": ".py",
   "mimetype": "text/x-python",
   "name": "python",
   "nbconvert_exporter": "python",
   "pygments_lexer": "ipython3",
   "version": "3.9.13"
  }
 },
 "nbformat": 4,
 "nbformat_minor": 5
}
